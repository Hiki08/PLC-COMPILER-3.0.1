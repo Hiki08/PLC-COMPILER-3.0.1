{
 "cells": [
  {
   "cell_type": "code",
   "execution_count": 9,
   "metadata": {},
   "outputs": [],
   "source": [
    "from pathlib import Path\n",
    "import shutil\n",
    "import glob\n",
    "import pandas as pd\n",
    "import os\n",
    "import numpy as np\n",
    "import math\n",
    "import openpyxl\n",
    "import datetime\n",
    "from datetime import datetime as datetime2\n",
    "import time\n",
    "from openpyxl.styles import Font\n",
    "import pyttsx3\n",
    "from python_calamine import CalamineWorkbook\n",
    "import xlrd\n",
    "import threading\n",
    "\n",
    "#GUI\n",
    "from tkinter import *\n",
    "import tkinter as tk\n",
    "from tkinter import ttk\n",
    "from tkinter import filedialog\n",
    "\n",
    "#TimePicker\n",
    "from tktimepicker import AnalogPicker, AnalogThemes\n",
    "\n",
    "#Fixing Blur UI\n",
    "from ctypes import windll\n",
    "\n",
    "from openpyxl import load_workbook"
   ]
  },
  {
   "cell_type": "code",
   "execution_count": 3,
   "metadata": {},
   "outputs": [],
   "source": [
    "pd.set_option('display.max_columns', None)\n",
    "pd.set_option('display.max_rows', None)\n",
    "\n",
    "vt1Directory = (fr'\\\\192.168.2.19\\quality control\\2024\\1.Supplier{\"'\"}s  Relation\\A. Inspection Standard & Reference\\5.) RECEIVING INSPECTION RECORD\\CRONICS\\~DATA TREND 2024')\n",
    "os.chdir(vt1Directory)\n",
    "\n",
    "wb = load_workbook(filename='FM05000102 NEW.xlsm', data_only=True)\n",
    "sheet = wb['format']\n",
    "dfVt1 = pd.DataFrame(sheet.values)"
   ]
  },
  {
   "cell_type": "code",
   "execution_count": null,
   "metadata": {},
   "outputs": [],
   "source": [
    "#Getting The Row, Column Location Of Specific Value\n",
    "findHiblow = [(index, column) for index, row in dfVt1.iterrows() for column, value in row.items() if value == \"HIBLOW\"]\n",
    "hiblowRow = [index for index, _ in findHiblow]\n",
    "hiblowColumn = [column for _, column in findHiblow]\n",
    "\n",
    "print(\"Row indices:\", hiblowRow)\n",
    "print(\"Column names:\", hiblowColumn)"
   ]
  },
  {
   "cell_type": "code",
   "execution_count": null,
   "metadata": {},
   "outputs": [],
   "source": [
    "# Get the neighboring data\n",
    "hiblowFiltered = dfVt1.iloc[max(0, hiblowRow[0] - 3):min(len(dfVt1), hiblowRow[0] + 10), dfVt1.columns.get_loc(hiblowColumn[0]):dfVt1.columns.get_loc(hiblowColumn[0]) + 999]\n",
    "hiblowFiltered"
   ]
  },
  {
   "cell_type": "code",
   "execution_count": null,
   "metadata": {},
   "outputs": [],
   "source": [
    "#Getting The Row, Column Location Of Specific Value\n",
    "findLotNumber = [(index, column) for index, row in hiblowFiltered.iterrows() for column, value in row.items() if value == \"060424A-40\"]\n",
    "lotNumberRow = [index for index, _ in findLotNumber]\n",
    "lotNumberColumn = [column for _, column in findLotNumber]\n",
    "\n",
    "print(\"Row indices:\", lotNumberRow)\n",
    "print(\"Column names:\", lotNumberColumn)"
   ]
  },
  {
   "cell_type": "code",
   "execution_count": null,
   "metadata": {},
   "outputs": [],
   "source": [
    "# Get the neighboring data\n",
    "inspectionData = dfVt1.iloc[max(0, lotNumberRow[0]):min(len(dfVt1), lotNumberRow[0] + 10), dfVt1.columns.get_loc(lotNumberColumn[0]):dfVt1.columns.get_loc(lotNumberColumn[0]) + 5]\n",
    "\n",
    "average1 = inspectionData.iloc[3].mean()\n",
    "average2 = inspectionData.iloc[4].mean()\n",
    "average3 = inspectionData.iloc[5].mean()\n",
    "average4 = inspectionData.iloc[6].mean()\n",
    "average5 = inspectionData.iloc[7].mean()\n",
    "average6 = inspectionData.iloc[8].mean()\n",
    "average7 = inspectionData.iloc[9].mean()\n",
    "\n",
    "average1 = f\"{average1:.2f}\"\n",
    "average2 = f\"{average2:.2f}\"\n",
    "average3 = f\"{average3:.2f}\"\n",
    "average4 = f\"{average4:.2f}\"\n",
    "average5 = f\"{average5:.2f}\"\n",
    "average6 = f\"{average6:.2f}\"\n",
    "average7 = f\"{average7:.2f}\"\n",
    "\n",
    "print(average1)\n",
    "print(average2)\n",
    "print(average3)\n",
    "print(average4)\n",
    "print(average5)\n",
    "print(average6)\n",
    "print(average7)\n",
    "\n",
    "inspectionData"
   ]
  },
  {
   "cell_type": "code",
   "execution_count": null,
   "metadata": {},
   "outputs": [],
   "source": [
    "#GUI\n",
    "from tkinter import *\n",
    "import tkinter as tk\n",
    "from tkinter import ttk\n",
    "from tkinter import filedialog\n",
    "from tkinter.messagebox import askokcancel, showerror, showwarning, showinfo, askyesno, askretrycancel, WARNING\n",
    "\n",
    "#Fixing Blur UI\n",
    "from ctypes import windll\n",
    "\n",
    "#Fixing Blur\n",
    "windll.shcore.SetProcessDpiAwareness(1)\n",
    "\n",
    "root = tk.Tk()\n",
    "root.title('Process 1')\n",
    "root.geometry('1280x720+50+50')\n",
    "root.resizable(False, False)\n",
    "\n",
    "button = Button(root, image = on)\n",
    "\n",
    "\n",
    "root.mainloop()"
   ]
  }
 ],
 "metadata": {
  "kernelspec": {
   "display_name": "Python 3",
   "language": "python",
   "name": "python3"
  },
  "language_info": {
   "codemirror_mode": {
    "name": "ipython",
    "version": 3
   },
   "file_extension": ".py",
   "mimetype": "text/x-python",
   "name": "python",
   "nbconvert_exporter": "python",
   "pygments_lexer": "ipython3",
   "version": "3.12.2"
  }
 },
 "nbformat": 4,
 "nbformat_minor": 2
}
